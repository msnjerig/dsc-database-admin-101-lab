{
 "cells": [
  {
   "cell_type": "markdown",
   "metadata": {},
   "source": [
    "# Database Admin 101 - Lab\n",
    "\n",
    "## Introduction \n",
    "\n",
    "In this lab, you'll go through the process of designing and creating a database. From there, you'll begin to populate this table with mock data provided to you.\n",
    "\n",
    "## Objectives\n",
    "\n",
    "You will be able to:\n",
    "\n",
    "* Use knowledge of the structure of databases to create a database and populate it"
   ]
  },
  {
   "cell_type": "markdown",
   "metadata": {},
   "source": [
    "## The Scenario\n",
    "\n",
    "You are looking to design a database for a school that will house various information from student grades to contact information, class roster lists and attendance. First, think of how you would design such a database. What tables would you include? What columns would each table have? What would be the primary means to join said tables?"
   ]
  },
  {
   "cell_type": "markdown",
   "metadata": {},
   "source": [
    "## Creating the Database\n",
    "\n",
    "Now that you've put a little thought into how you might design your database, it's time to go ahead and create it! Start by import the necessary packages. Then, create a database called **school.sqlite**."
   ]
  },
  {
   "cell_type": "code",
   "execution_count": 22,
   "metadata": {},
   "outputs": [],
   "source": [
    "# Import necessary packages\n",
    "import sqlite3\n",
    "import pandas as pd   \n"
   ]
  },
  {
   "cell_type": "code",
   "execution_count": 23,
   "metadata": {},
   "outputs": [],
   "source": [
    "# Create the database school.sqlite \n",
    "conn = sqlite3.connect('school.sqlite')\n",
    "cursor = conn.cursor()\n"
   ]
  },
  {
   "cell_type": "markdown",
   "metadata": {},
   "source": [
    "## Create a Table for Contact Information\n",
    "\n",
    "Create a table called contactInfo to house contact information for both students and staff. Be sure to include columns for first name, last name, role (student/staff), telephone number, street, city, state, and zipcode. Be sure to also create a primary key for the table. "
   ]
  },
  {
   "cell_type": "code",
   "execution_count": 24,
   "metadata": {},
   "outputs": [
    {
     "data": {
      "text/plain": [
       "<sqlite3.Cursor at 0x21f15a5fec0>"
      ]
     },
     "execution_count": 24,
     "metadata": {},
     "output_type": "execute_result"
    }
   ],
   "source": [
    "# Your code here\n",
    "cursor.execute(''' \n",
    "CREATE TABLE IF NOT EXISTS contactInfo (\n",
    "person_id INTEGER PRIMARY KEY AUTOINCREMENT,\n",
    "first_name VARCHAR(30) NOT NULL,\n",
    "last_name VARCHAR(30) NOT NULL,\n",
    "role TEXT CHECK(role IN ('student', 'staff')) NOT NULL,\n",
    "telephone_no VARCHAR(15) NOT NULL,\n",
    "street VARCHAR(60) NOT NULL,\n",
    "city TEXT NOT NULL,\n",
    "state TEXT NOT NULL,\n",
    "zipcode VARCHAR(20)\n",
    ");\n",
    "''')"
   ]
  },
  {
   "cell_type": "markdown",
   "metadata": {},
   "source": [
    "## Populate the Table\n",
    "\n",
    "Below, code is provided for you in order to load a list of dictionaries. Briefly examine the list. Each dictionary in the list will serve as an entry for your contact info table. Once you've briefly investigated the structure of this data, write a for loop to iterate through the list and create an entry in your table for each person's contact info."
   ]
  },
  {
   "cell_type": "code",
   "execution_count": 25,
   "metadata": {},
   "outputs": [],
   "source": [
    "# Load the list of dictionaries; just run this cell\n",
    "import pickle\n",
    "\n",
    "with open('contact_list.pickle', 'rb') as f:\n",
    "    contacts = pickle.load(f)"
   ]
  },
  {
   "cell_type": "code",
   "execution_count": 26,
   "metadata": {},
   "outputs": [],
   "source": [
    "# Iterate over the contact list and populate the contactInfo table here\n",
    "for contact in contacts:\n",
    "    cursor.execute(''' \n",
    "        INSERT INTO contactInfo (first_name, last_name, role, telephone_no, street, city,\n",
    "        state, zipcode) VALUES (?, ?, ?, ?, ?, ?, ?, ?)\n",
    "        ''', (contact['firstName'], contact['lastName'], contact['role'], contact['telephone '], contact['street'],\n",
    "              contact['city'], contact['state'], contact['zipcode ']))\n",
    "    \n",
    "    conn.commit()\n",
    "    \n"
   ]
  },
  {
   "cell_type": "markdown",
   "metadata": {},
   "source": [
    "**Query the Table to Ensure it is populated**"
   ]
  },
  {
   "cell_type": "code",
   "execution_count": 27,
   "metadata": {},
   "outputs": [
    {
     "name": "stdout",
     "output_type": "stream",
     "text": [
      "    person_id   first_name last_name     role telephone_no  \\\n",
      "0           1    Christine    Holden    staff   2035687697   \n",
      "1           2  Christopher    Warren  student   2175150957   \n",
      "2           3        Linda  Jacobson    staff   4049446441   \n",
      "3           4       Andrew     Stepp  student   7866419252   \n",
      "4           5         Jane     Evans  student   3259909290   \n",
      "5           6         Jane     Evans  student   3259909290   \n",
      "6           7         Mary    Raines  student   9075772295   \n",
      "7           8           Ed     Lyman  student   5179695576   \n",
      "8           9    Christine    Holden    staff   2035687697   \n",
      "9          10  Christopher    Warren  student   2175150957   \n",
      "10         11        Linda  Jacobson    staff   4049446441   \n",
      "11         12       Andrew     Stepp  student   7866419252   \n",
      "12         13         Jane     Evans  student   3259909290   \n",
      "13         14         Jane     Evans  student   3259909290   \n",
      "14         15         Mary    Raines  student   9075772295   \n",
      "15         16           Ed     Lyman  student   5179695576   \n",
      "\n",
      "                       street       city state zipcode  \n",
      "0          1672 Whitman Court   Stamford    CT   06995  \n",
      "1   1935 University Hill Road  Champaign    IL   61938  \n",
      "2         479 Musgrave Street    Atlanta    GA   30303  \n",
      "3   2981 Lamberts Branch Road    Hialeah    Fl   33012  \n",
      "4         1461 Briarhill Lane    Abilene    TX   79602  \n",
      "5         1461 Briarhill Lane    Abilene    TX   79602  \n",
      "6       3975 Jerry Toth Drive  Ninilchik    AK   99639  \n",
      "7               3478 Be Sreet    Lansing    MI   48933  \n",
      "8          1672 Whitman Court   Stamford    CT   06995  \n",
      "9   1935 University Hill Road  Champaign    IL   61938  \n",
      "10        479 Musgrave Street    Atlanta    GA   30303  \n",
      "11  2981 Lamberts Branch Road    Hialeah    Fl   33012  \n",
      "12        1461 Briarhill Lane    Abilene    TX   79602  \n",
      "13        1461 Briarhill Lane    Abilene    TX   79602  \n",
      "14      3975 Jerry Toth Drive  Ninilchik    AK   99639  \n",
      "15              3478 Be Sreet    Lansing    MI   48933  \n"
     ]
    }
   ],
   "source": [
    "# Your code here \n",
    "query1 = \"\"\" \n",
    "SELECT * \n",
    "FROM contactInfo;\n",
    "\"\"\"\n",
    "df = pd.read_sql(query1, conn)\n",
    "print(df)\n"
   ]
  },
  {
   "cell_type": "markdown",
   "metadata": {},
   "source": [
    "## Commit Your Changes to the Database\n",
    "\n",
    "Persist your changes by committing them to the database."
   ]
  },
  {
   "cell_type": "code",
   "execution_count": 28,
   "metadata": {},
   "outputs": [],
   "source": [
    "# Your code here\n",
    "conn.close()"
   ]
  },
  {
   "cell_type": "markdown",
   "metadata": {},
   "source": [
    "## Create a Table for Student Grades\n",
    "\n",
    "Create a new table in the database called \"grades\". In the table, include the following fields: userId, courseId, grade.\n",
    "\n",
    "** This problem is a bit more tricky and will require a dual key. (A nuance you have yet to see.)\n",
    "Here's how to do that:\n",
    "\n",
    "```SQL\n",
    "CREATE TABLE table_name(\n",
    "   column_1 INTEGER NOT NULL,\n",
    "   column_2 INTEGER NOT NULL,\n",
    "   ...\n",
    "   PRIMARY KEY(column_1,column_2,...)\n",
    ");\n",
    "```"
   ]
  },
  {
   "cell_type": "code",
   "execution_count": 30,
   "metadata": {},
   "outputs": [],
   "source": [
    "# Create the grades table\n",
    "conn = sqlite3.connect('school.sqlite')\n",
    "cursor = conn.cursor()\n",
    "cursor.execute(''' \n",
    "CREATE TABLE IF NOT EXISTS grades (\n",
    "userId INTEGER NOT NULL,\n",
    "courseId INTEGER NOT NULL,\n",
    "grade TEXT,\n",
    "PRIMARY KEY (userId, courseId)\n",
    ")''')\n",
    "\n",
    "conn.commit()"
   ]
  },
  {
   "cell_type": "markdown",
   "metadata": {},
   "source": [
    "## Remove Duplicate Entries\n",
    "\n",
    "An analyst just realized that there is a duplicate entry in the contactInfo table! Find and remove it."
   ]
  },
  {
   "cell_type": "code",
   "execution_count": 31,
   "metadata": {},
   "outputs": [
    {
     "name": "stdout",
     "output_type": "stream",
     "text": [
      "    first_name last_name     role telephone_no                     street  \\\n",
      "0       Andrew     Stepp  student   7866419252  2981 Lamberts Branch Road   \n",
      "1    Christine    Holden    staff   2035687697         1672 Whitman Court   \n",
      "2  Christopher    Warren  student   2175150957  1935 University Hill Road   \n",
      "3           Ed     Lyman  student   5179695576              3478 Be Sreet   \n",
      "4         Jane     Evans  student   3259909290        1461 Briarhill Lane   \n",
      "5        Linda  Jacobson    staff   4049446441        479 Musgrave Street   \n",
      "6         Mary    Raines  student   9075772295      3975 Jerry Toth Drive   \n",
      "\n",
      "        city state zipcode  \n",
      "0    Hialeah    Fl   33012  \n",
      "1   Stamford    CT   06995  \n",
      "2  Champaign    IL   61938  \n",
      "3    Lansing    MI   48933  \n",
      "4    Abilene    TX   79602  \n",
      "5    Atlanta    GA   30303  \n",
      "6  Ninilchik    AK   99639  \n"
     ]
    }
   ],
   "source": [
    "# Find the duplicate entry\n",
    "query2 = \"\"\" \n",
    "SELECT first_name, last_name, role, telephone_no, street, city, state, zipcode\n",
    "FROM contactInfo\n",
    "GROUP BY first_name, last_name, role, telephone_no, street, city, state, zipcode\n",
    "HAVING COUNT(*) > 1;\n",
    "\"\"\"\n",
    "df = pd.read_sql(query2, conn)\n",
    "print(df)"
   ]
  },
  {
   "cell_type": "code",
   "execution_count": 33,
   "metadata": {},
   "outputs": [],
   "source": [
    "# Delete the duplicate entry\n",
    "cursor.execute (''' \n",
    "DELETE FROM contactInfo\n",
    "WHERE rowid NOT IN (\n",
    "SELECT MIN(rowid)\n",
    "FROM contactInfo\n",
    "GROUP BY first_name, last_name, role, telephone_no, street, city, state, zipcode\n",
    ");\n",
    "''')\n",
    "conn.commit()"
   ]
  },
  {
   "cell_type": "code",
   "execution_count": 34,
   "metadata": {},
   "outputs": [
    {
     "name": "stdout",
     "output_type": "stream",
     "text": [
      "   person_id   first_name last_name     role telephone_no  \\\n",
      "0          1    Christine    Holden    staff   2035687697   \n",
      "1          2  Christopher    Warren  student   2175150957   \n",
      "2          3        Linda  Jacobson    staff   4049446441   \n",
      "3          4       Andrew     Stepp  student   7866419252   \n",
      "4          5         Jane     Evans  student   3259909290   \n",
      "5          7         Mary    Raines  student   9075772295   \n",
      "6          8           Ed     Lyman  student   5179695576   \n",
      "\n",
      "                      street       city state zipcode  \n",
      "0         1672 Whitman Court   Stamford    CT   06995  \n",
      "1  1935 University Hill Road  Champaign    IL   61938  \n",
      "2        479 Musgrave Street    Atlanta    GA   30303  \n",
      "3  2981 Lamberts Branch Road    Hialeah    Fl   33012  \n",
      "4        1461 Briarhill Lane    Abilene    TX   79602  \n",
      "5      3975 Jerry Toth Drive  Ninilchik    AK   99639  \n",
      "6              3478 Be Sreet    Lansing    MI   48933  \n"
     ]
    }
   ],
   "source": [
    "# Check that the duplicate entry was removed\n",
    "query3 = \"\"\" SELECT * FROM contactInfo;\"\"\"\n",
    "df = pd.read_sql(query3, conn)\n",
    "print(df)"
   ]
  },
  {
   "cell_type": "markdown",
   "metadata": {},
   "source": [
    "## Updating an Address\n",
    "\n",
    "Ed Lyman just moved to `2910 Simpson Avenue York, PA 17403`. Update his address accordingly."
   ]
  },
  {
   "cell_type": "code",
   "execution_count": 35,
   "metadata": {},
   "outputs": [],
   "source": [
    "# Update Ed's address\n",
    "cursor.execute (''' \n",
    "UPDATE contactInfo \n",
    "SET street = '2910 Simpson Avenue', city = 'York', state = 'PA', zipcode = '17403' \n",
    "WHERE first_name = 'Ed' AND last_name = 'Lyman';\n",
    "''')\n",
    "conn.commit()\n"
   ]
  },
  {
   "cell_type": "code",
   "execution_count": 37,
   "metadata": {},
   "outputs": [
    {
     "name": "stdout",
     "output_type": "stream",
     "text": [
      "   person_id   first_name last_name     role telephone_no  \\\n",
      "0          1    Christine    Holden    staff   2035687697   \n",
      "1          2  Christopher    Warren  student   2175150957   \n",
      "2          3        Linda  Jacobson    staff   4049446441   \n",
      "3          4       Andrew     Stepp  student   7866419252   \n",
      "4          5         Jane     Evans  student   3259909290   \n",
      "5          7         Mary    Raines  student   9075772295   \n",
      "6          8           Ed     Lyman  student   5179695576   \n",
      "\n",
      "                      street       city state zipcode  \n",
      "0         1672 Whitman Court   Stamford    CT   06995  \n",
      "1  1935 University Hill Road  Champaign    IL   61938  \n",
      "2        479 Musgrave Street    Atlanta    GA   30303  \n",
      "3  2981 Lamberts Branch Road    Hialeah    Fl   33012  \n",
      "4        1461 Briarhill Lane    Abilene    TX   79602  \n",
      "5      3975 Jerry Toth Drive  Ninilchik    AK   99639  \n",
      "6        2910 Simpson Avenue       York    PA   17403  \n"
     ]
    }
   ],
   "source": [
    "# Query the database to ensure the change was made\n",
    "query4 = \"\"\" SELECT * FROM contactInfo;\"\"\"\n",
    "df = pd.read_sql(query4, conn)\n",
    "print(df)"
   ]
  },
  {
   "cell_type": "markdown",
   "metadata": {},
   "source": [
    "## Commit Your Changes to the Database\n",
    "\n",
    "Once again, persist your changes by committing them to the database."
   ]
  },
  {
   "cell_type": "code",
   "execution_count": 38,
   "metadata": {},
   "outputs": [],
   "source": [
    "# Your code here\n",
    "conn.commit()\n",
    "conn.close()"
   ]
  },
  {
   "cell_type": "markdown",
   "metadata": {},
   "source": [
    "## Summary\n",
    "\n",
    "While there's certainly more to do with setting up and managing this database, you got a taste for creating, populating, and maintaining databases! Feel free to continue fleshing out this exercise for more practice. "
   ]
  }
 ],
 "metadata": {
  "kernelspec": {
   "display_name": "Python 3",
   "language": "python",
   "name": "python3"
  },
  "language_info": {
   "codemirror_mode": {
    "name": "ipython",
    "version": 3
   },
   "file_extension": ".py",
   "mimetype": "text/x-python",
   "name": "python",
   "nbconvert_exporter": "python",
   "pygments_lexer": "ipython3",
   "version": "3.13.1"
  },
  "toc": {
   "base_numbering": 1,
   "nav_menu": {},
   "number_sections": true,
   "sideBar": true,
   "skip_h1_title": false,
   "title_cell": "Table of Contents",
   "title_sidebar": "Contents",
   "toc_cell": false,
   "toc_position": {},
   "toc_section_display": true,
   "toc_window_display": false
  }
 },
 "nbformat": 4,
 "nbformat_minor": 2
}
